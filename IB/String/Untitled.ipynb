{
 "cells": [
  {
   "cell_type": "code",
   "execution_count": 2,
   "metadata": {
    "ExecuteTime": {
     "end_time": "2019-05-21T11:28:57.750739Z",
     "start_time": "2019-05-21T11:28:57.729322Z"
    }
   },
   "outputs": [
    {
     "data": {
      "text/plain": [
       "'Siyuds'"
      ]
     },
     "execution_count": 2,
     "metadata": {},
     "output_type": "execute_result"
    }
   ],
   "source": [
    "s = \"Siyuds\"\n",
    "s"
   ]
  },
  {
   "cell_type": "code",
   "execution_count": 70,
   "metadata": {
    "ExecuteTime": {
     "end_time": "2019-05-23T08:08:13.246929Z",
     "start_time": "2019-05-23T08:08:13.239182Z"
    }
   },
   "outputs": [
    {
     "data": {
      "text/plain": [
       "['Eric', 'John', 'Michael']"
      ]
     },
     "execution_count": 70,
     "metadata": {},
     "output_type": "execute_result"
    }
   ],
   "source": [
    "a  = [\"Eric\", \"John\", \"Michael\"]\n",
    "a"
   ]
  },
  {
   "cell_type": "code",
   "execution_count": 71,
   "metadata": {
    "ExecuteTime": {
     "end_time": "2019-05-23T08:08:56.237032Z",
     "start_time": "2019-05-23T08:08:56.227159Z"
    }
   },
   "outputs": [
    {
     "data": {
      "text/plain": [
       "3"
      ]
     },
     "execution_count": 71,
     "metadata": {},
     "output_type": "execute_result"
    }
   ],
   "source": [
    "len(a)"
   ]
  },
  {
   "cell_type": "code",
   "execution_count": 86,
   "metadata": {
    "ExecuteTime": {
     "end_time": "2019-05-23T08:14:49.993330Z",
     "start_time": "2019-05-23T08:14:49.985764Z"
    }
   },
   "outputs": [
    {
     "data": {
      "text/plain": [
       "-10"
      ]
     },
     "execution_count": 86,
     "metadata": {},
     "output_type": "execute_result"
    }
   ],
   "source": [
    "a = [\"-10\"]\n",
    "int(a[0])\n",
    "# a[0].isdigit()\n",
    "# int(\"\".join(a))"
   ]
  },
  {
   "cell_type": "code",
   "execution_count": 63,
   "metadata": {
    "ExecuteTime": {
     "end_time": "2019-05-23T08:01:58.041843Z",
     "start_time": "2019-05-23T08:01:58.033080Z"
    }
   },
   "outputs": [
    {
     "data": {
      "text/plain": [
       "'1545'"
      ]
     },
     "execution_count": 63,
     "metadata": {},
     "output_type": "execute_result"
    }
   ],
   "source": [
    "a = \"15\"\n",
    "b = \"45\"\n",
    "a + b"
   ]
  },
  {
   "cell_type": "code",
   "execution_count": 48,
   "metadata": {
    "ExecuteTime": {
     "end_time": "2019-05-23T07:16:23.797631Z",
     "start_time": "2019-05-23T07:16:23.793302Z"
    }
   },
   "outputs": [],
   "source": [
    "A = \"(Aditya)\""
   ]
  },
  {
   "cell_type": "code",
   "execution_count": 47,
   "metadata": {
    "ExecuteTime": {
     "end_time": "2019-05-23T07:02:38.755437Z",
     "start_time": "2019-05-23T07:02:38.750138Z"
    }
   },
   "outputs": [
    {
     "name": "stdout",
     "output_type": "stream",
     "text": [
      "Michael\n"
     ]
    }
   ],
   "source": [
    "if a:\n",
    "    print (a[-1])"
   ]
  },
  {
   "cell_type": "code",
   "execution_count": 28,
   "metadata": {
    "ExecuteTime": {
     "end_time": "2019-05-23T06:54:48.695440Z",
     "start_time": "2019-05-23T06:54:48.691147Z"
    }
   },
   "outputs": [],
   "source": [
    "a.remove(a[0])"
   ]
  },
  {
   "cell_type": "code",
   "execution_count": 12,
   "metadata": {
    "ExecuteTime": {
     "end_time": "2019-05-23T06:47:57.055071Z",
     "start_time": "2019-05-23T06:47:57.046676Z"
    }
   },
   "outputs": [],
   "source": [
    "a.append(\"adiyta\")"
   ]
  },
  {
   "cell_type": "code",
   "execution_count": 17,
   "metadata": {
    "ExecuteTime": {
     "end_time": "2019-05-23T06:49:18.972262Z",
     "start_time": "2019-05-23T06:49:18.964425Z"
    }
   },
   "outputs": [
    {
     "data": {
      "text/plain": [
       "'Eric/John/Michael/adiyta'"
      ]
     },
     "execution_count": 17,
     "metadata": {},
     "output_type": "execute_result"
    }
   ],
   "source": [
    "'/'.join(a)"
   ]
  },
  {
   "cell_type": "code",
   "execution_count": 10,
   "metadata": {
    "ExecuteTime": {
     "end_time": "2019-05-23T06:43:27.049559Z",
     "start_time": "2019-05-23T06:43:27.041676Z"
    }
   },
   "outputs": [
    {
     "data": {
      "text/plain": [
       "'/Eric/John/Michael'"
      ]
     },
     "execution_count": 10,
     "metadata": {},
     "output_type": "execute_result"
    }
   ],
   "source": [
    "\n",
    "\n",
    "z= \"\"\n",
    "for x in a:\n",
    "    z = z + '/' + x"
   ]
  }
 ],
 "metadata": {
  "kernelspec": {
   "display_name": "Python 2",
   "language": "python",
   "name": "python2"
  },
  "language_info": {
   "codemirror_mode": {
    "name": "ipython",
    "version": 3
   },
   "file_extension": ".py",
   "mimetype": "text/x-python",
   "name": "python",
   "nbconvert_exporter": "python",
   "pygments_lexer": "ipython3",
   "version": "3.7.1"
  },
  "toc": {
   "base_numbering": 1,
   "nav_menu": {},
   "number_sections": true,
   "sideBar": true,
   "skip_h1_title": false,
   "title_cell": "Table of Contents",
   "title_sidebar": "Contents",
   "toc_cell": false,
   "toc_position": {},
   "toc_section_display": true,
   "toc_window_display": false
  }
 },
 "nbformat": 4,
 "nbformat_minor": 2
}
