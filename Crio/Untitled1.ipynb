{
 "cells": [
  {
   "cell_type": "code",
   "execution_count": null,
   "metadata": {},
   "outputs": [],
   "source": [
    "# MedianOfTwoSortedArrays Solution \n",
    "# Issue with Testcase 30 - perf-test-8 \n",
    "\n",
    "def find_median(nums1, nums2, size1, size2):\n",
    "    if m > n:\n",
    "        nums1, nums2, size1, size2 = nums2, nums1, size2, size1\n",
    "\n",
    "    imin, imax, half_len = 0, size1, int((size1 + size2 + 1) / 2)\n",
    "    while imin <= imax:\n",
    "        i = int((imin + imax) / 2)\n",
    "        j = half_len - i\n",
    "        if i < m and num2[j-1] > num1[i]:\n",
    "            # i is too small, must increase it\n",
    "            imin = i + 1\n",
    "        elif i > 0 and num1[i-1] > num2[j]:\n",
    "            # i is too big, must decrease it\n",
    "            imax = i - 1\n",
    "        else:\n",
    "            # i is perfect\n",
    "\n",
    "            if i == 0: max_of_left = num2[j-1]\n",
    "            elif j == 0: max_of_left = num1[i-1]\n",
    "            else: max_of_left = max(num1[i-1], num2[j-1])\n",
    "\n",
    "            if (m + n) % 2 == 1:\n",
    "                return max_of_left\n",
    "\n",
    "            if i == m: min_of_right = num2[j]\n",
    "            elif j == n: min_of_right = num1[i]\n",
    "            else: min_of_right = min(num1[i], num2[j])\n",
    "\n",
    "            return (max_of_left + min_of_right) / 2.0\n",
    "\n",
    "def main():\n",
    "    n = int(input())\n",
    "    nums1 = list(map(int, input().split()))\n",
    "    m = int(input())\n",
    "    nums2 = list(map(int, input().split()))\n",
    "    queries = int(input())\n",
    "    while queries >= 1:\n",
    "        size1, size2 = map(int, input().split()) \n",
    "        answer = find_median(nums1, nums2, size1, size2)\n",
    "        print(answer*1.0)\n",
    "        queries -= 1\n",
    "\n",
    "if __name__ == \"__main__\":\n",
    "    main()"
   ]
  }
 ],
 "metadata": {
  "kernelspec": {
   "display_name": "Python 3",
   "language": "python",
   "name": "python3"
  },
  "language_info": {
   "codemirror_mode": {
    "name": "ipython",
    "version": 3
   },
   "file_extension": ".py",
   "mimetype": "text/x-python",
   "name": "python",
   "nbconvert_exporter": "python",
   "pygments_lexer": "ipython3",
   "version": "3.7.4"
  }
 },
 "nbformat": 4,
 "nbformat_minor": 2
}
