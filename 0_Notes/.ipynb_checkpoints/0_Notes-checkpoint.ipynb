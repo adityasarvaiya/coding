{
 "cells": [
  {
   "cell_type": "markdown",
   "metadata": {},
   "source": [
    "## NOTES"
   ]
  },
  {
   "cell_type": "markdown",
   "metadata": {},
   "source": [
    "__1.__ \n",
    "    1.  INT_MIN <br>\n",
    "    2.  INT_MAX <br>We can use this 2 variables to get MIN and MAX values of Integer in C/C++. It may vary system to system."
   ]
  },
  {
   "cell_type": "markdown",
   "metadata": {},
   "source": [
    "__2.__ Avoid cin in loops or use it with (ios_base::sync_with_stdio(false); cin.tie(NULL);) "
   ]
  },
  {
   "cell_type": "markdown",
   "metadata": {},
   "source": [
    "__3.__ Avoid % (MOD) as it takes more time."
   ]
  },
  {
   "cell_type": "markdown",
   "metadata": {},
   "source": [
    "__4.__ Check if particular approach will be accepted or will give TLE in some OJs. Lets say we have O(n^3) time complexity approach for particular problem. Now generally, our computers are running with 1GHz speed. <br>\n",
    "1G = 10^9 <br>\n",
    "==> __Our computer can process 10^9 instructions per sec__ <br> <br>\n",
    "for eg. <br> Time limit = 1 sec <br> \n",
    "Test cases (t) = 100 <br>\n",
    "Every test case have array (A[n]) of max size 10^2 <br> \n",
    "Total Num of instructions = ((10^2) * 100) = 10^4 <br>\n",
    "1. for O(n^3) solution => O((10^4)^3) = O(10^12) <br>\n",
    "__Hence this O(n^3) will NOT be accepted bcos 10^12 > 10^9__\n",
    "1. for O(n^2) solution => O((10^4)^2) = O(10^8) <br>\n",
    "__Hence this O(n^3) will be accepted bcos 10^8 < 10^9__\n",
    "\n",
    "\n"
   ]
  },
  {
   "cell_type": "markdown",
   "metadata": {},
   "source": [
    "## 1) Kadane's Algorithm : Kadane’s Algorithm:"
   ]
  },
  {
   "cell_type": "markdown",
   "metadata": {},
   "source": [
    "https://practice.geeksforgeeks.org/problems/kadanes-algorithm/0 <br>\n",
    "https://www.geeksforgeeks.org/largest-sum-contiguous-subarray/"
   ]
  },
  {
   "cell_type": "markdown",
   "metadata": {},
   "source": [
    "Given an array arr of N integers. Find the contiguous sub-array with maximum sum."
   ]
  },
  {
   "cell_type": "markdown",
   "metadata": {},
   "source": [
    "### Algorithm"
   ]
  },
  {
   "cell_type": "raw",
   "metadata": {},
   "source": [
    "Initialize:\n",
    "    max_so_far = 0\n",
    "    max_ending_here = 0\n",
    "\n",
    "Loop for each element of the array\n",
    "  (a) max_ending_here = max_ending_here + a[i]\n",
    "  (b) if(max_ending_here < 0)\n",
    "            max_ending_here = 0 \n",
    "            max_so_far = max_ending_here\n",
    "return max_so_far"
   ]
  },
  {
   "cell_type": "markdown",
   "metadata": {},
   "source": [
    "### Code"
   ]
  },
  {
   "cell_type": "raw",
   "metadata": {},
   "source": [
    "#include <bits/stdc++.h>\n",
    "using namespace std;\n",
    "\n",
    "int main() {\n",
    "    int t;\n",
    "    cin >> t;\n",
    "    \n",
    "    while (t--) {\n",
    "        int n, curr;\n",
    "        cin >> n;\n",
    "        int a[n];\n",
    "        int max_till_here = 0, max_overall = INT_MIN;\n",
    "        \n",
    "        for (int i = 0; i < n; ++i) {\n",
    "            cin >> curr;\n",
    "            max_till_here = max_till_here + curr;\n",
    "\n",
    "            if (max_till_here > max_overall) {\n",
    "                max_overall = max_till_here;\n",
    "            }\n",
    "\n",
    "            if (max_till_here < 0) {\n",
    "                max_till_here = 0;\n",
    "            }\n",
    "        }\n",
    "        \n",
    "        cout << max_overall << endl;\n",
    "    }\n",
    "    return 0;\n",
    "}"
   ]
  },
  {
   "cell_type": "markdown",
   "metadata": {},
   "source": [
    "## 2) Subarray with given sum"
   ]
  },
  {
   "cell_type": "markdown",
   "metadata": {},
   "source": [
    "https://practice.geeksforgeeks.org/problems/subarray-with-given-sum/0 <br>\n",
    "https://www.geeksforgeeks.org/find-subarray-with-given-sum/"
   ]
  },
  {
   "cell_type": "markdown",
   "metadata": {},
   "source": [
    "Given an unsorted array A of size N of non-negative integers, find a continuous sub-array which adds to a given number. <br>\n",
    "__n__ = num of elements in array <br>\n",
    "**sum** = required sum from subarray <br>\n",
    "**start end** = pointers to starting and ending of subarray"
   ]
  },
  {
   "cell_type": "raw",
   "metadata": {},
   "source": [
    "#include <bits/stdc++.h>\n",
    "using namespace std;\n",
    "\n",
    "int main() {\n",
    "    int t;\n",
    "    cin >> t;\n",
    "\n",
    "    while (t--) {\n",
    "        int n,sum,start, end=0, curr_sum;\n",
    "        cin >> n >> sum;\n",
    "        int ar[n];\n",
    "\n",
    "        //take all input\n",
    "        for (int i = 0; i < n; i++ ) {\n",
    "            cin >> ar[i];\n",
    "        }\n",
    "\n",
    "        start = 0;  \n",
    "        curr_sum = 0;\n",
    "\n",
    "        //actual processing\n",
    "        for (end = 0; end < n; end++) {\n",
    "            curr_sum = curr_sum + ar[end];\n",
    "\n",
    "            while(curr_sum > sum && start < end){\n",
    "                curr_sum = curr_sum - ar[start];\n",
    "                start++;\n",
    "            }\n",
    "        \n",
    "            if (curr_sum == sum) {\n",
    "                break;\n",
    "            }\n",
    "        }\n",
    "\n",
    "        if (curr_sum != sum) {\n",
    "            cout << \"-1\" << endl;\n",
    "        } else {\n",
    "            cout << start+1 << \" \" << end+1  << endl;\n",
    "        }\n",
    "    }\n",
    "\n",
    "    return 0;\n",
    "}"
   ]
  }
 ],
 "metadata": {
  "kernelspec": {
   "display_name": "Python 3",
   "language": "python",
   "name": "python3"
  },
  "language_info": {
   "codemirror_mode": {
    "name": "ipython",
    "version": 3
   },
   "file_extension": ".py",
   "mimetype": "text/x-python",
   "name": "python",
   "nbconvert_exporter": "python",
   "pygments_lexer": "ipython3",
   "version": "3.6.5"
  }
 },
 "nbformat": 4,
 "nbformat_minor": 2
}
